{
 "cells": [
  {
   "cell_type": "code",
   "execution_count": 1,
   "id": "96781add",
   "metadata": {},
   "outputs": [],
   "source": [
    "from IPython.display import clear_output\n",
    "\n",
    "def display_board(board):\n",
    "    clear_output()\n",
    "    print(board[7]+'|'+board[8]+'|'+board[9])\n",
    "    print(\"-|-|-\")\n",
    "    print(board[4]+'|'+board[5]+'|'+board[6])\n",
    "    print(\"-|-|-\")\n",
    "    print(board[1]+'|'+board[2]+'|'+board[3])"
   ]
  },
  {
   "cell_type": "code",
   "execution_count": 2,
   "id": "ee3ad7a4",
   "metadata": {},
   "outputs": [],
   "source": [
    "def player_input():\n",
    "    \n",
    "    mark = \" \"\n",
    "    \n",
    "    while mark.upper() != \"X\" and mark.upper() != \"O\":\n",
    "        mark = input('Player 1, choose X or O: ')\n",
    "        \n",
    "        if mark.upper() == 'X':\n",
    "            player1 = \"X\"\n",
    "            player2 = \"O\"\n",
    "        else: \n",
    "            player2 = \"X\"\n",
    "            player1 = \"O\"\n",
    "    \n",
    "    return(player1,player2)"
   ]
  },
  {
   "cell_type": "code",
   "execution_count": 3,
   "id": "5bafe935",
   "metadata": {},
   "outputs": [],
   "source": [
    "def place_marker(board, marker, position):\n",
    "    \n",
    "    position = \" \"\n",
    "    \n",
    "    while position not in range(0,10):\n",
    "        position = int(input(\"Enter your marker position: \"))\n",
    "        \n",
    "        if position in range (0,10):\n",
    "            board[position] = marker\n",
    "            return board\n",
    "        else:\n",
    "            print('Provide valid input')"
   ]
  },
  {
   "cell_type": "code",
   "execution_count": 4,
   "id": "221672c5",
   "metadata": {},
   "outputs": [],
   "source": [
    "def win_check(board, mark):\n",
    "    \n",
    "    return ((board[1] == board[2] == board[3] == mark) or\n",
    "(board[4] == board[5] == board[6] == mark) or\n",
    "(board[7] == board[8] == board[9] == mark) or\n",
    "(board[1] == board[4] == board[7] == mark) or\n",
    "(board[2] == board[5] == board[8] == mark) or\n",
    "(board[3] == board[6] == board[9] == mark) or\n",
    "(board[1] == board[5] == board[9] == mark) or\n",
    "(board[3] == board[5] == board[7] == mark))"
   ]
  },
  {
   "cell_type": "code",
   "execution_count": 5,
   "id": "404cc5d1",
   "metadata": {},
   "outputs": [],
   "source": [
    "import random\n",
    "\n",
    "def choose_first():\n",
    "    if random.randint(0,1) == 0:\n",
    "        return \"Player 1\"\n",
    "    else:\n",
    "        return \"Player 2\""
   ]
  },
  {
   "cell_type": "code",
   "execution_count": 6,
   "id": "3e8da59c",
   "metadata": {},
   "outputs": [],
   "source": [
    "def space_check(board, position):\n",
    "    \n",
    "    return board[position] == \" \""
   ]
  },
  {
   "cell_type": "code",
   "execution_count": 7,
   "id": "04d808d6",
   "metadata": {},
   "outputs": [],
   "source": [
    "def full_board_check(board):\n",
    "    \n",
    "    for i in range (0,10):\n",
    "        if space_check(board,i):\n",
    "            return False\n",
    "    return True"
   ]
  },
  {
   "cell_type": "code",
   "execution_count": 8,
   "id": "5a538ee5",
   "metadata": {},
   "outputs": [],
   "source": [
    "def player_choice(board):\n",
    "    \n",
    "    position = 0\n",
    "    \n",
    "    while position not in range (0,10) or not space_check(board, position):\n",
    "        position = int(input('Provide a position (1-9)'))\n",
    "        \n",
    "    return position"
   ]
  },
  {
   "cell_type": "code",
   "execution_count": 9,
   "id": "76184849",
   "metadata": {},
   "outputs": [],
   "source": [
    "def replay():\n",
    "    \n",
    "    ans = \" \"\n",
    "    \n",
    "    while ans not in [\"YES\",\"NO\"]:\n",
    "        ans = input(\"Want to play again or not? Yes or No: \").upper()\n",
    "        \n",
    "        if ans == \"YES\":\n",
    "            return True\n",
    "        else:\n",
    "            return False"
   ]
  },
  {
   "cell_type": "code",
   "execution_count": 10,
   "id": "2ee1a761",
   "metadata": {},
   "outputs": [
    {
     "name": "stdout",
     "output_type": "stream",
     "text": [
      " | |O\n",
      "-|-|-\n",
      "X|X|X\n",
      "-|-|-\n",
      "O| | \n",
      "Player 1 won the game!!\n",
      "Want to play again or not? Yes or No: n\n"
     ]
    }
   ],
   "source": [
    "print('Welcome to Tic Tac Toe!')\n",
    "\n",
    "\n",
    "while True: \n",
    "    # Set the game up here\n",
    "    theboard = [\" \"] * 10\n",
    "    player1,player2 = player_input()\n",
    "    \n",
    "    turn = choose_first()\n",
    "    print(turn + \" will go first.\")\n",
    "\n",
    "    play = input(\"Are you ready to play? Y or N: \").upper()\n",
    "    if play == \"Y\":\n",
    "        game = True\n",
    "    else: \n",
    "        game = False\n",
    "\n",
    "    while game :\n",
    "        #Player 1 Turn\n",
    "        if turn == \"Player 1\":\n",
    "            display_board(theboard)\n",
    "            position = player_choice(theboard)\n",
    "            \n",
    "            place_marker(theboard,player1,position)\n",
    "            \n",
    "            if win_check(theboard,player1):\n",
    "                display_board(theboard)\n",
    "                print(\"Player 1 won the game!!\")\n",
    "                game = False\n",
    "                \n",
    "            else:\n",
    "                if full_board_check(theboard):\n",
    "                    display_board(theboard)\n",
    "                    print(\"Game Tie!\")\n",
    "                    game = False\n",
    "                else:\n",
    "                    turn = 'Player 2'\n",
    "        \n",
    "        \n",
    "        # Player2's turn.\n",
    "        \n",
    "        else:\n",
    "            display_board(theboard)\n",
    "            position = player_choice(theboard)\n",
    "            \n",
    "            place_marker(theboard,player2,position)\n",
    "            \n",
    "            if win_check(theboard,player2):\n",
    "                display_board(theboard)\n",
    "                print(\"Player 2 won the game!!\")\n",
    "                game = False\n",
    "                \n",
    "            else:\n",
    "                if full_board_check(theboard) :\n",
    "                    display_board(theboard)\n",
    "                    print(\"Game Tie!\")\n",
    "                    game = False\n",
    "                else:\n",
    "                    turn = 'Player 1'\n",
    "            \n",
    "\n",
    "    if not replay():\n",
    "        break"
   ]
  },
  {
   "cell_type": "code",
   "execution_count": null,
   "id": "0d168ebf",
   "metadata": {},
   "outputs": [],
   "source": []
  }
 ],
 "metadata": {
  "kernelspec": {
   "display_name": "Python 3 (ipykernel)",
   "language": "python",
   "name": "python3"
  },
  "language_info": {
   "codemirror_mode": {
    "name": "ipython",
    "version": 3
   },
   "file_extension": ".py",
   "mimetype": "text/x-python",
   "name": "python",
   "nbconvert_exporter": "python",
   "pygments_lexer": "ipython3",
   "version": "3.9.7"
  }
 },
 "nbformat": 4,
 "nbformat_minor": 5
}
